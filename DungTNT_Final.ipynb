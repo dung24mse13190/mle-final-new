{
  "nbformat": 4,
  "nbformat_minor": 0,
  "metadata": {
    "colab": {
      "provenance": [],
      "authorship_tag": "ABX9TyN1l7bfC325NgXluLA9/Y9V",
      "include_colab_link": true
    },
    "kernelspec": {
      "name": "python3",
      "display_name": "Python 3"
    },
    "language_info": {
      "name": "python"
    }
  },
  "cells": [
    {
      "cell_type": "markdown",
      "metadata": {
        "id": "view-in-github",
        "colab_type": "text"
      },
      "source": [
        "<a href=\"https://colab.research.google.com/github/dung24mse13190/mle-final-new/blob/main/DungTNT_Final.ipynb\" target=\"_parent\"><img src=\"https://colab.research.google.com/assets/colab-badge.svg\" alt=\"Open In Colab\"/></a>"
      ]
    },
    {
      "cell_type": "code",
      "execution_count": null,
      "metadata": {
        "id": "eUWJ3qfRFoEF"
      },
      "outputs": [],
      "source": []
    },
    {
      "cell_type": "code",
      "metadata": {
        "id": "373041a7"
      },
      "source": [
        "import pandas as pd\n",
        "\n",
        "# Load the dataset\n",
        "df_train = pd.read_csv('/kaggle/input/healthcare-dataset-stroke-data/healthcare-dataset-stroke-data.csv')\n",
        "\n",
        "# Display the first 5 rows of the dataframe\n",
        "display(df_train.head())\n",
        "\n",
        "# Display the shape of the dataframe\n",
        "print(f\"Shape of the dataframe: {df_train.shape}\")"
      ],
      "execution_count": null,
      "outputs": []
    }
  ]
}